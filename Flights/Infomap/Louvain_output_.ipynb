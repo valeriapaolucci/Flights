{
 "cells": [
  {
   "cell_type": "code",
   "execution_count": 12,
   "metadata": {},
   "outputs": [],
   "source": [
    "import pandas as pd\n",
    "import numpy as np\n",
    "import csv"
   ]
  },
  {
   "cell_type": "code",
   "execution_count": 13,
   "metadata": {},
   "outputs": [
    {
     "data": {
      "text/html": [
       "<div>\n",
       "<style scoped>\n",
       "    .dataframe tbody tr th:only-of-type {\n",
       "        vertical-align: middle;\n",
       "    }\n",
       "\n",
       "    .dataframe tbody tr th {\n",
       "        vertical-align: top;\n",
       "    }\n",
       "\n",
       "    .dataframe thead th {\n",
       "        text-align: right;\n",
       "    }\n",
       "</style>\n",
       "<table border=\"1\" class=\"dataframe\">\n",
       "  <thead>\n",
       "    <tr style=\"text-align: right;\">\n",
       "      <th></th>\n",
       "      <th>MOD_CLASS</th>\n",
       "      <th>FLIGHTS</th>\n",
       "      <th>SIZE</th>\n",
       "    </tr>\n",
       "  </thead>\n",
       "  <tbody>\n",
       "    <tr>\n",
       "      <th>0</th>\n",
       "      <td>0</td>\n",
       "      <td>['A6RTS_OMDW_EGGW_20170901055500' 'AAR795_UUDD...</td>\n",
       "      <td>4227</td>\n",
       "    </tr>\n",
       "    <tr>\n",
       "      <th>1</th>\n",
       "      <td>1</td>\n",
       "      <td>['AAB249_EBKT_LFMN_20170901070500' 'AAB249_LFM...</td>\n",
       "      <td>8471</td>\n",
       "    </tr>\n",
       "    <tr>\n",
       "      <th>2</th>\n",
       "      <td>2</td>\n",
       "      <td>['AAB25C_LOWW_UUMO_20170901143500' 'AAB696_EBL...</td>\n",
       "      <td>5280</td>\n",
       "    </tr>\n",
       "    <tr>\n",
       "      <th>3</th>\n",
       "      <td>3</td>\n",
       "      <td>['AAB678_LEIB_LPPR_20170901100000' 'AAB713_EBK...</td>\n",
       "      <td>2678</td>\n",
       "    </tr>\n",
       "    <tr>\n",
       "      <th>4</th>\n",
       "      <td>4</td>\n",
       "      <td>['AAB713_EDDV_EHBK_20170901183500' 'AAB713_EHB...</td>\n",
       "      <td>8017</td>\n",
       "    </tr>\n",
       "    <tr>\n",
       "      <th>5</th>\n",
       "      <td>5</td>\n",
       "      <td>['ABG8006_LTAI_UNOO_20170901155000' 'ABG8058_L...</td>\n",
       "      <td>669</td>\n",
       "    </tr>\n",
       "    <tr>\n",
       "      <th>6</th>\n",
       "      <td>6</td>\n",
       "      <td>['BCY061P_ENZV_ENBR_20170901111500' 'BEE2907_E...</td>\n",
       "      <td>467</td>\n",
       "    </tr>\n",
       "    <tr>\n",
       "      <th>7</th>\n",
       "      <td>7</td>\n",
       "      <td>['BHL642_ENKR_ENSS_20170901033000' 'FVK202_ENH...</td>\n",
       "      <td>53</td>\n",
       "    </tr>\n",
       "    <tr>\n",
       "      <th>8</th>\n",
       "      <td>8</td>\n",
       "      <td>['DOP601_EKEB_EKDB_20170901050000' 'DOP602_EKG...</td>\n",
       "      <td>4</td>\n",
       "    </tr>\n",
       "    <tr>\n",
       "      <th>9</th>\n",
       "      <td>9</td>\n",
       "      <td>['DOP613_EKEB_EKHD_20170901160000' 'DOP614_EKD...</td>\n",
       "      <td>6</td>\n",
       "    </tr>\n",
       "    <tr>\n",
       "      <th>10</th>\n",
       "      <td>None</td>\n",
       "      <td>['AHY9223_UBBB_UGTB_20170901043000' 'AOJ75D_LD...</td>\n",
       "      <td>45</td>\n",
       "    </tr>\n",
       "  </tbody>\n",
       "</table>\n",
       "</div>"
      ],
      "text/plain": [
       "   MOD_CLASS                                            FLIGHTS  SIZE\n",
       "0          0  ['A6RTS_OMDW_EGGW_20170901055500' 'AAR795_UUDD...  4227\n",
       "1          1  ['AAB249_EBKT_LFMN_20170901070500' 'AAB249_LFM...  8471\n",
       "2          2  ['AAB25C_LOWW_UUMO_20170901143500' 'AAB696_EBL...  5280\n",
       "3          3  ['AAB678_LEIB_LPPR_20170901100000' 'AAB713_EBK...  2678\n",
       "4          4  ['AAB713_EDDV_EHBK_20170901183500' 'AAB713_EHB...  8017\n",
       "5          5  ['ABG8006_LTAI_UNOO_20170901155000' 'ABG8058_L...   669\n",
       "6          6  ['BCY061P_ENZV_ENBR_20170901111500' 'BEE2907_E...   467\n",
       "7          7  ['BHL642_ENKR_ENSS_20170901033000' 'FVK202_ENH...    53\n",
       "8          8  ['DOP601_EKEB_EKDB_20170901050000' 'DOP602_EKG...     4\n",
       "9          9  ['DOP613_EKEB_EKHD_20170901160000' 'DOP614_EKD...     6\n",
       "10      None  ['AHY9223_UBBB_UGTB_20170901043000' 'AOJ75D_LD...    45"
      ]
     },
     "execution_count": 13,
     "metadata": {},
     "output_type": "execute_result"
    }
   ],
   "source": [
    "output = pd.read_csv('../w_louvain.csv')\n",
    "output"
   ]
  },
  {
   "cell_type": "code",
   "execution_count": 14,
   "metadata": {},
   "outputs": [],
   "source": [
    "output = output.replace('\\n','', regex=True)"
   ]
  },
  {
   "cell_type": "code",
   "execution_count": 15,
   "metadata": {},
   "outputs": [
    {
     "data": {
      "text/html": [
       "<div>\n",
       "<style scoped>\n",
       "    .dataframe tbody tr th:only-of-type {\n",
       "        vertical-align: middle;\n",
       "    }\n",
       "\n",
       "    .dataframe tbody tr th {\n",
       "        vertical-align: top;\n",
       "    }\n",
       "\n",
       "    .dataframe thead th {\n",
       "        text-align: right;\n",
       "    }\n",
       "</style>\n",
       "<table border=\"1\" class=\"dataframe\">\n",
       "  <thead>\n",
       "    <tr style=\"text-align: right;\">\n",
       "      <th></th>\n",
       "      <th>MOD_CLASS</th>\n",
       "      <th>FLIGHTS</th>\n",
       "      <th>SIZE</th>\n",
       "    </tr>\n",
       "  </thead>\n",
       "  <tbody>\n",
       "    <tr>\n",
       "      <th>0</th>\n",
       "      <td>(\"0\")</td>\n",
       "      <td>[\"A6RTS_OMDW_EGGW_20170901055500\" \"AAR795_UUDD...</td>\n",
       "      <td>4227</td>\n",
       "    </tr>\n",
       "    <tr>\n",
       "      <th>1</th>\n",
       "      <td>(\"1\")</td>\n",
       "      <td>[\"AAB249_EBKT_LFMN_20170901070500\" \"AAB249_LFM...</td>\n",
       "      <td>8471</td>\n",
       "    </tr>\n",
       "    <tr>\n",
       "      <th>2</th>\n",
       "      <td>(\"2\")</td>\n",
       "      <td>[\"AAB25C_LOWW_UUMO_20170901143500\" \"AAB696_EBL...</td>\n",
       "      <td>5280</td>\n",
       "    </tr>\n",
       "    <tr>\n",
       "      <th>3</th>\n",
       "      <td>(\"3\")</td>\n",
       "      <td>[\"AAB678_LEIB_LPPR_20170901100000\" \"AAB713_EBK...</td>\n",
       "      <td>2678</td>\n",
       "    </tr>\n",
       "    <tr>\n",
       "      <th>4</th>\n",
       "      <td>(\"4\")</td>\n",
       "      <td>[\"AAB713_EDDV_EHBK_20170901183500\" \"AAB713_EHB...</td>\n",
       "      <td>8017</td>\n",
       "    </tr>\n",
       "    <tr>\n",
       "      <th>5</th>\n",
       "      <td>(\"5\")</td>\n",
       "      <td>[\"ABG8006_LTAI_UNOO_20170901155000\" \"ABG8058_L...</td>\n",
       "      <td>669</td>\n",
       "    </tr>\n",
       "    <tr>\n",
       "      <th>6</th>\n",
       "      <td>(\"6\")</td>\n",
       "      <td>[\"BCY061P_ENZV_ENBR_20170901111500\" \"BEE2907_E...</td>\n",
       "      <td>467</td>\n",
       "    </tr>\n",
       "    <tr>\n",
       "      <th>7</th>\n",
       "      <td>(\"7\")</td>\n",
       "      <td>[\"BHL642_ENKR_ENSS_20170901033000\" \"FVK202_ENH...</td>\n",
       "      <td>53</td>\n",
       "    </tr>\n",
       "    <tr>\n",
       "      <th>8</th>\n",
       "      <td>(\"8\")</td>\n",
       "      <td>[\"DOP601_EKEB_EKDB_20170901050000\" \"DOP602_EKG...</td>\n",
       "      <td>4</td>\n",
       "    </tr>\n",
       "    <tr>\n",
       "      <th>9</th>\n",
       "      <td>(\"9\")</td>\n",
       "      <td>[\"DOP613_EKEB_EKHD_20170901160000\" \"DOP614_EKD...</td>\n",
       "      <td>6</td>\n",
       "    </tr>\n",
       "    <tr>\n",
       "      <th>10</th>\n",
       "      <td>(\"None\")</td>\n",
       "      <td>[\"AHY9223_UBBB_UGTB_20170901043000\" \"AOJ75D_LD...</td>\n",
       "      <td>45</td>\n",
       "    </tr>\n",
       "  </tbody>\n",
       "</table>\n",
       "</div>"
      ],
      "text/plain": [
       "   MOD_CLASS                                            FLIGHTS  SIZE\n",
       "0      (\"0\")  [\"A6RTS_OMDW_EGGW_20170901055500\" \"AAR795_UUDD...  4227\n",
       "1      (\"1\")  [\"AAB249_EBKT_LFMN_20170901070500\" \"AAB249_LFM...  8471\n",
       "2      (\"2\")  [\"AAB25C_LOWW_UUMO_20170901143500\" \"AAB696_EBL...  5280\n",
       "3      (\"3\")  [\"AAB678_LEIB_LPPR_20170901100000\" \"AAB713_EBK...  2678\n",
       "4      (\"4\")  [\"AAB713_EDDV_EHBK_20170901183500\" \"AAB713_EHB...  8017\n",
       "5      (\"5\")  [\"ABG8006_LTAI_UNOO_20170901155000\" \"ABG8058_L...   669\n",
       "6      (\"6\")  [\"BCY061P_ENZV_ENBR_20170901111500\" \"BEE2907_E...   467\n",
       "7      (\"7\")  [\"BHL642_ENKR_ENSS_20170901033000\" \"FVK202_ENH...    53\n",
       "8      (\"8\")  [\"DOP601_EKEB_EKDB_20170901050000\" \"DOP602_EKG...     4\n",
       "9      (\"9\")  [\"DOP613_EKEB_EKHD_20170901160000\" \"DOP614_EKD...     6\n",
       "10  (\"None\")  [\"AHY9223_UBBB_UGTB_20170901043000\" \"AOJ75D_LD...    45"
      ]
     },
     "execution_count": 15,
     "metadata": {},
     "output_type": "execute_result"
    }
   ],
   "source": [
    "output['MOD_CLASS'] = '(\"' + output['MOD_CLASS'].astype(str) + '\")'\n",
    "output = output.replace(\"'\", '\"', regex=True)\n",
    "output"
   ]
  },
  {
   "cell_type": "code",
   "execution_count": 16,
   "metadata": {},
   "outputs": [],
   "source": [
    "with open('louvain_clusters_W.dat', 'a') as the_file:\n",
    "    for i in range(0,len(output)):\n",
    "        the_file.write('\\t' + str(output['MOD_CLASS'].loc[i]) + \" \" + str(output['FLIGHTS'].loc[i]) + '\\n')"
   ]
  },
  {
   "cell_type": "code",
   "execution_count": 17,
   "metadata": {},
   "outputs": [
    {
     "data": {
      "text/plain": [
       "'[\"DOP613_EKEB_EKHD_20170901160000\" \"DOP614_EKDB_EKEB_20170901181500\" \"DOP615_EKEB_EKDB_20170901161500\" \"DOP616_EKHA_EKEB_20170901181500\" \"DOP641_EKEB_EKHA_20170901164500\" \"DOP642_EKGC_EKEB_20170901181500\"]'"
      ]
     },
     "execution_count": 17,
     "metadata": {},
     "output_type": "execute_result"
    }
   ],
   "source": [
    "output['FLIGHTS'].loc[9]\n",
    "#output['SIZE'].sum()"
   ]
  },
  {
   "cell_type": "code",
   "execution_count": null,
   "metadata": {},
   "outputs": [],
   "source": [
    "#output.to_csv('C:\\\\Users\\\\utente\\\\Documents\\\\DSSC_IIyear\\\\Voli\\\\Network\\\\output___1.dat', header=True, index=False)"
   ]
  },
  {
   "cell_type": "code",
   "execution_count": null,
   "metadata": {},
   "outputs": [],
   "source": [
    "#prova = pd.read_csv('output___1.dat')\n",
    "#prova"
   ]
  },
  {
   "cell_type": "code",
   "execution_count": null,
   "metadata": {},
   "outputs": [],
   "source": [
    "#output = output[['CLUSTER','FLIGHTS']]"
   ]
  },
  {
   "cell_type": "code",
   "execution_count": null,
   "metadata": {},
   "outputs": [],
   "source": [
    "#output.to_csv('C:\\\\Users\\\\utente\\\\Documents\\\\DSSC_IIyear\\\\Voli\\\\Infomap\\\\infomap_clusters___3.csv', header=True, index=False)"
   ]
  },
  {
   "cell_type": "code",
   "execution_count": null,
   "metadata": {},
   "outputs": [],
   "source": [
    "#output.to_csv('C:\\\\Users\\\\utente\\\\Documents\\\\DSSC_IIyear\\\\Voli\\\\Infomap\\\\infomap_clusters___3.dat', sep=',', header=False, index=False)"
   ]
  },
  {
   "cell_type": "code",
   "execution_count": null,
   "metadata": {},
   "outputs": [],
   "source": [
    "#data = pd.read_csv('infomap_clusters___3.dat', header=None, sep=',')"
   ]
  },
  {
   "cell_type": "code",
   "execution_count": null,
   "metadata": {},
   "outputs": [],
   "source": [
    "#data"
   ]
  }
 ],
 "metadata": {
  "kernelspec": {
   "display_name": "Python 3",
   "language": "python",
   "name": "python3"
  },
  "language_info": {
   "codemirror_mode": {
    "name": "ipython",
    "version": 3
   },
   "file_extension": ".py",
   "mimetype": "text/x-python",
   "name": "python",
   "nbconvert_exporter": "python",
   "pygments_lexer": "ipython3",
   "version": "3.7.5"
  }
 },
 "nbformat": 4,
 "nbformat_minor": 2
}
