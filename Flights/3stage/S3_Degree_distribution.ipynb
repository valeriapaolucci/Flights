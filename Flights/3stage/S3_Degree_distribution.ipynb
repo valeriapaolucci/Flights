{
 "cells": [
  {
   "cell_type": "markdown",
   "metadata": {},
   "source": [
    "# Degree distribution\n",
    "\n",
    "- Guardare grado di ogni nodo (se una riga ha 0 non interferisce)\n",
    "\n",
    "- Istogramma distribuzione grado (: informazione su grado compattezza rete, quanto è connessa)\n",
    "\n",
    "- Distribuzione temporale: è uniforme durante la giornata?"
   ]
  },
  {
   "cell_type": "code",
   "execution_count": 117,
   "metadata": {},
   "outputs": [],
   "source": [
    "import pandas as pd\n",
    "import numpy as np\n",
    "import copy\n",
    "import matplotlib.pyplot as plt"
   ]
  },
  {
   "cell_type": "code",
   "execution_count": 118,
   "metadata": {},
   "outputs": [],
   "source": [
    "data = pd.read_csv('C:\\\\Users\\\\utente\\\\Documents\\\\DSSC_IIyear\\\\Voli\\\\Dataframe\\\\S3_degrees.csv')"
   ]
  },
  {
   "cell_type": "code",
   "execution_count": 119,
   "metadata": {},
   "outputs": [
    {
     "data": {
      "text/html": [
       "<div>\n",
       "<style scoped>\n",
       "    .dataframe tbody tr th:only-of-type {\n",
       "        vertical-align: middle;\n",
       "    }\n",
       "\n",
       "    .dataframe tbody tr th {\n",
       "        vertical-align: top;\n",
       "    }\n",
       "\n",
       "    .dataframe thead th {\n",
       "        text-align: right;\n",
       "    }\n",
       "</style>\n",
       "<table border=\"1\" class=\"dataframe\">\n",
       "  <thead>\n",
       "    <tr style=\"text-align: right;\">\n",
       "      <th></th>\n",
       "      <th>flight</th>\n",
       "      <th>sector_hours</th>\n",
       "      <th>degree</th>\n",
       "    </tr>\n",
       "  </thead>\n",
       "  <tbody>\n",
       "    <tr>\n",
       "      <th>0</th>\n",
       "      <td>A6RTS_OMDW_EGGW_20170901055500</td>\n",
       "      <td>['LTAAAEU67_0800_0900_E', 'LTAAANOR2_0900_1000...</td>\n",
       "      <td>154</td>\n",
       "    </tr>\n",
       "    <tr>\n",
       "      <th>1</th>\n",
       "      <td>AAB249_EBKT_LFMN_20170901070500</td>\n",
       "      <td>['EBBUWLS_0700_0800_E', 'EBBUWHS_0700_0800_E',...</td>\n",
       "      <td>127</td>\n",
       "    </tr>\n",
       "    <tr>\n",
       "      <th>2</th>\n",
       "      <td>AAB249_LFMN_LIEO_20170901090500</td>\n",
       "      <td>['LFMMMNST_0900_1000_E', 'LFMMBTAJ_0900_1000_E...</td>\n",
       "      <td>56</td>\n",
       "    </tr>\n",
       "    <tr>\n",
       "      <th>3</th>\n",
       "      <td>AAB25C_LOWW_UUMO_20170901143500</td>\n",
       "      <td>['LZBBL33_1500_1600_E', 'LZBBU_1500_1600_E', '...</td>\n",
       "      <td>45</td>\n",
       "    </tr>\n",
       "    <tr>\n",
       "      <th>4</th>\n",
       "      <td>AAB571_EBBR_EGNV_20170901050500</td>\n",
       "      <td>['EBBUNWC_0530_0600_E', 'EDYYB5KL_0500_0600_E'...</td>\n",
       "      <td>64</td>\n",
       "    </tr>\n",
       "    <tr>\n",
       "      <th>...</th>\n",
       "      <td>...</td>\n",
       "      <td>...</td>\n",
       "      <td>...</td>\n",
       "    </tr>\n",
       "    <tr>\n",
       "      <th>29912</th>\n",
       "      <td>XLF056_LFPG_MMUN_20170901153100</td>\n",
       "      <td>['LFFFTH_1600_1700_E' 'LFFFUZ_1600_1700_E' 'LF...</td>\n",
       "      <td>42</td>\n",
       "    </tr>\n",
       "    <tr>\n",
       "      <th>29913</th>\n",
       "      <td>XLF1451_LFML_LFPG_20170901030500</td>\n",
       "      <td>['LFMMMALY_0330_0400_E' 'LFMMWW_0330_0400_E' '...</td>\n",
       "      <td>0</td>\n",
       "    </tr>\n",
       "    <tr>\n",
       "      <th>29914</th>\n",
       "      <td>XRO546_LFMD_EGCC_20170901180000</td>\n",
       "      <td>['LFMMSBAM_1800_1900_E' 'LFMMB12_1800_1900_E' ...</td>\n",
       "      <td>56</td>\n",
       "    </tr>\n",
       "    <tr>\n",
       "      <th>29915</th>\n",
       "      <td>XRO552_EHAM_LFMD_20170901150000</td>\n",
       "      <td>['EHAACOD_1500_1600_E' 'EHAASECT3_1520_1600_E'...</td>\n",
       "      <td>233</td>\n",
       "    </tr>\n",
       "    <tr>\n",
       "      <th>29916</th>\n",
       "      <td>Z3MKD_LWSK_EDDF_20170901130000</td>\n",
       "      <td>['LWSSLOW_1300_1400_E' 'LYBAL_1300_1359_E' 'LQ...</td>\n",
       "      <td>114</td>\n",
       "    </tr>\n",
       "  </tbody>\n",
       "</table>\n",
       "<p>29917 rows × 3 columns</p>\n",
       "</div>"
      ],
      "text/plain": [
       "                                 flight  \\\n",
       "0        A6RTS_OMDW_EGGW_20170901055500   \n",
       "1       AAB249_EBKT_LFMN_20170901070500   \n",
       "2       AAB249_LFMN_LIEO_20170901090500   \n",
       "3       AAB25C_LOWW_UUMO_20170901143500   \n",
       "4       AAB571_EBBR_EGNV_20170901050500   \n",
       "...                                 ...   \n",
       "29912   XLF056_LFPG_MMUN_20170901153100   \n",
       "29913  XLF1451_LFML_LFPG_20170901030500   \n",
       "29914   XRO546_LFMD_EGCC_20170901180000   \n",
       "29915   XRO552_EHAM_LFMD_20170901150000   \n",
       "29916    Z3MKD_LWSK_EDDF_20170901130000   \n",
       "\n",
       "                                            sector_hours  degree  \n",
       "0      ['LTAAAEU67_0800_0900_E', 'LTAAANOR2_0900_1000...     154  \n",
       "1      ['EBBUWLS_0700_0800_E', 'EBBUWHS_0700_0800_E',...     127  \n",
       "2      ['LFMMMNST_0900_1000_E', 'LFMMBTAJ_0900_1000_E...      56  \n",
       "3      ['LZBBL33_1500_1600_E', 'LZBBU_1500_1600_E', '...      45  \n",
       "4      ['EBBUNWC_0530_0600_E', 'EDYYB5KL_0500_0600_E'...      64  \n",
       "...                                                  ...     ...  \n",
       "29912  ['LFFFTH_1600_1700_E' 'LFFFUZ_1600_1700_E' 'LF...      42  \n",
       "29913  ['LFMMMALY_0330_0400_E' 'LFMMWW_0330_0400_E' '...       0  \n",
       "29914  ['LFMMSBAM_1800_1900_E' 'LFMMB12_1800_1900_E' ...      56  \n",
       "29915  ['EHAACOD_1500_1600_E' 'EHAASECT3_1520_1600_E'...     233  \n",
       "29916  ['LWSSLOW_1300_1400_E' 'LYBAL_1300_1359_E' 'LQ...     114  \n",
       "\n",
       "[29917 rows x 3 columns]"
      ]
     },
     "execution_count": 119,
     "metadata": {},
     "output_type": "execute_result"
    }
   ],
   "source": [
    "data"
   ]
  },
  {
   "cell_type": "code",
   "execution_count": 120,
   "metadata": {},
   "outputs": [
    {
     "data": {
      "text/plain": [
       "2498068"
      ]
     },
     "execution_count": 120,
     "metadata": {},
     "output_type": "execute_result"
    }
   ],
   "source": [
    "count = data['degree'].sum()\n",
    "count"
   ]
  },
  {
   "cell_type": "code",
   "execution_count": 121,
   "metadata": {},
   "outputs": [
    {
     "data": {
      "text/plain": [
       "2498068"
      ]
     },
     "execution_count": 121,
     "metadata": {},
     "output_type": "execute_result"
    }
   ],
   "source": [
    "count = 0\n",
    "for i in range(0,len(data)):\n",
    "    count += data['degree'].loc[i]\n",
    "count"
   ]
  },
  {
   "cell_type": "code",
   "execution_count": 122,
   "metadata": {},
   "outputs": [
    {
     "data": {
      "text/plain": [
       "0"
      ]
     },
     "execution_count": 122,
     "metadata": {},
     "output_type": "execute_result"
    }
   ],
   "source": [
    "data['degree'].min()"
   ]
  },
  {
   "cell_type": "code",
   "execution_count": 123,
   "metadata": {},
   "outputs": [
    {
     "data": {
      "text/plain": [
       "457"
      ]
     },
     "execution_count": 123,
     "metadata": {},
     "output_type": "execute_result"
    }
   ],
   "source": [
    "data['degree'].max()"
   ]
  },
  {
   "cell_type": "code",
   "execution_count": 124,
   "metadata": {},
   "outputs": [
    {
     "data": {
      "text/plain": [
       "83"
      ]
     },
     "execution_count": 124,
     "metadata": {},
     "output_type": "execute_result"
    }
   ],
   "source": [
    "int(data['degree'].mean())"
   ]
  },
  {
   "cell_type": "code",
   "execution_count": 125,
   "metadata": {},
   "outputs": [
    {
     "data": {
      "text/plain": [
       "2445"
      ]
     },
     "execution_count": 125,
     "metadata": {},
     "output_type": "execute_result"
    }
   ],
   "source": [
    "len(data[data['degree']>=200])"
   ]
  },
  {
   "cell_type": "code",
   "execution_count": 126,
   "metadata": {},
   "outputs": [
    {
     "data": {
      "text/html": [
       "<div>\n",
       "<style scoped>\n",
       "    .dataframe tbody tr th:only-of-type {\n",
       "        vertical-align: middle;\n",
       "    }\n",
       "\n",
       "    .dataframe tbody tr th {\n",
       "        vertical-align: top;\n",
       "    }\n",
       "\n",
       "    .dataframe thead th {\n",
       "        text-align: right;\n",
       "    }\n",
       "</style>\n",
       "<table border=\"1\" class=\"dataframe\">\n",
       "  <thead>\n",
       "    <tr style=\"text-align: right;\">\n",
       "      <th></th>\n",
       "      <th>flight</th>\n",
       "      <th>sector_hours</th>\n",
       "      <th>degree</th>\n",
       "    </tr>\n",
       "  </thead>\n",
       "  <tbody>\n",
       "    <tr>\n",
       "      <th>45</th>\n",
       "      <td>AAF534_GOOY_LFML_20170901211500</td>\n",
       "      <td>['GCCCOCE_2200_2300_E', 'GMMMSOU_2300_2400_E',...</td>\n",
       "      <td>0</td>\n",
       "    </tr>\n",
       "    <tr>\n",
       "      <th>49</th>\n",
       "      <td>AAF707_LFML_DAAG_20170901053000</td>\n",
       "      <td>['LFMMMOML_0500_0600_E', 'LFMMF12_0600_0700_E'...</td>\n",
       "      <td>0</td>\n",
       "    </tr>\n",
       "    <tr>\n",
       "      <th>53</th>\n",
       "      <td>AAF715_LFML_DABC_20170901114000</td>\n",
       "      <td>['LFMMMOML_1200_1300_E', 'LFMMF12_1200_1300_E'...</td>\n",
       "      <td>0</td>\n",
       "    </tr>\n",
       "    <tr>\n",
       "      <th>64</th>\n",
       "      <td>AAF806_DAAG_LFML_20170901015000</td>\n",
       "      <td>['LFMMMFDZ_0100_0200_E', 'LFMMRAWM_0100_0200_E']</td>\n",
       "      <td>0</td>\n",
       "    </tr>\n",
       "    <tr>\n",
       "      <th>66</th>\n",
       "      <td>AAF844_DAAG_LFLL_20170901225000</td>\n",
       "      <td>['LECBBKE_2300_2400_E', 'LFMMMFDZ_2300_2400_E'...</td>\n",
       "      <td>0</td>\n",
       "    </tr>\n",
       "    <tr>\n",
       "      <th>...</th>\n",
       "      <td>...</td>\n",
       "      <td>...</td>\n",
       "      <td>...</td>\n",
       "    </tr>\n",
       "    <tr>\n",
       "      <th>29905</th>\n",
       "      <td>XK521EQ_LFMN_LFKJ_20170901181000</td>\n",
       "      <td>['LFMMSBAM_1800_1900_E']</td>\n",
       "      <td>0</td>\n",
       "    </tr>\n",
       "    <tr>\n",
       "      <th>29906</th>\n",
       "      <td>XK580FM_LFKF_LFMN_20170901144500</td>\n",
       "      <td>['LFMMBTAJ_1500_1600_E']</td>\n",
       "      <td>0</td>\n",
       "    </tr>\n",
       "    <tr>\n",
       "      <th>29907</th>\n",
       "      <td>XK581GB_LFMN_LFKF_20170901132000</td>\n",
       "      <td>['LFMMBTAJ_1300_1400_E']</td>\n",
       "      <td>0</td>\n",
       "    </tr>\n",
       "    <tr>\n",
       "      <th>29908</th>\n",
       "      <td>XK590LW_LFKF_LFML_20170901131500</td>\n",
       "      <td>['LFMMBTAJ_1300_1400_E' 'LFMMMOML_1400_1500_E']</td>\n",
       "      <td>0</td>\n",
       "    </tr>\n",
       "    <tr>\n",
       "      <th>29913</th>\n",
       "      <td>XLF1451_LFML_LFPG_20170901030500</td>\n",
       "      <td>['LFMMMALY_0330_0400_E' 'LFMMWW_0330_0400_E' '...</td>\n",
       "      <td>0</td>\n",
       "    </tr>\n",
       "  </tbody>\n",
       "</table>\n",
       "<p>5535 rows × 3 columns</p>\n",
       "</div>"
      ],
      "text/plain": [
       "                                 flight  \\\n",
       "45      AAF534_GOOY_LFML_20170901211500   \n",
       "49      AAF707_LFML_DAAG_20170901053000   \n",
       "53      AAF715_LFML_DABC_20170901114000   \n",
       "64      AAF806_DAAG_LFML_20170901015000   \n",
       "66      AAF844_DAAG_LFLL_20170901225000   \n",
       "...                                 ...   \n",
       "29905  XK521EQ_LFMN_LFKJ_20170901181000   \n",
       "29906  XK580FM_LFKF_LFMN_20170901144500   \n",
       "29907  XK581GB_LFMN_LFKF_20170901132000   \n",
       "29908  XK590LW_LFKF_LFML_20170901131500   \n",
       "29913  XLF1451_LFML_LFPG_20170901030500   \n",
       "\n",
       "                                            sector_hours  degree  \n",
       "45     ['GCCCOCE_2200_2300_E', 'GMMMSOU_2300_2400_E',...       0  \n",
       "49     ['LFMMMOML_0500_0600_E', 'LFMMF12_0600_0700_E'...       0  \n",
       "53     ['LFMMMOML_1200_1300_E', 'LFMMF12_1200_1300_E'...       0  \n",
       "64      ['LFMMMFDZ_0100_0200_E', 'LFMMRAWM_0100_0200_E']       0  \n",
       "66     ['LECBBKE_2300_2400_E', 'LFMMMFDZ_2300_2400_E'...       0  \n",
       "...                                                  ...     ...  \n",
       "29905                           ['LFMMSBAM_1800_1900_E']       0  \n",
       "29906                           ['LFMMBTAJ_1500_1600_E']       0  \n",
       "29907                           ['LFMMBTAJ_1300_1400_E']       0  \n",
       "29908    ['LFMMBTAJ_1300_1400_E' 'LFMMMOML_1400_1500_E']       0  \n",
       "29913  ['LFMMMALY_0330_0400_E' 'LFMMWW_0330_0400_E' '...       0  \n",
       "\n",
       "[5535 rows x 3 columns]"
      ]
     },
     "execution_count": 126,
     "metadata": {},
     "output_type": "execute_result"
    }
   ],
   "source": [
    "data[data['degree']==0]"
   ]
  },
  {
   "cell_type": "markdown",
   "metadata": {},
   "source": [
    "# Boxplot"
   ]
  },
  {
   "cell_type": "code",
   "execution_count": 134,
   "metadata": {},
   "outputs": [
    {
     "data": {
      "image/png": "[encoded data removed]",
      "text/plain": [
       "<Figure size 432x432 with 1 Axes>"
      ]
     },
     "metadata": {
      "needs_background": "light"
     },
     "output_type": "display_data"
    }
   ],
   "source": [
    "diamond = dict(markerfacecolor='g', marker='D')\n",
    "x = [data['degree']]\n",
    "plt.figure(figsize=(6,6))\n",
    "plt.boxplot(x, whis='range', showmeans=True, meanprops=diamond)\n",
    "\n",
    "plt.xticks([])\n",
    "plt.grid(color='#95a5a6', linestyle='--', linewidth=1, axis='y', alpha=0.7)\n",
    "plt.yticks(np.linspace(0,500,6))\n",
    "#plt.xlabel('Degree')\n",
    "#plt.ylabel('Frequency')\n",
    "#plt.title('\\nNode degree Boxplot\\n', fontsize=20)\n",
    "#plt.axhline(y=70, color='#95a5a6', linestyle='--', linewidth=1)\n",
    "#plt.box(on=None)\n",
    "#plt.grid(color='#95a5a6', linestyle='--', linewidth=1, axis='y', alpha=0.7)\n",
    "#plt.tight_layout()\n",
    "#plt.show()\n",
    "\n",
    "plt.savefig('C:\\\\Users\\\\utente\\\\Documents\\\\DSSC_IIyear\\\\Voli\\\\Plots\\\\S3_boxplot1.png')"
   ]
  },
  {
   "cell_type": "markdown",
   "metadata": {},
   "source": [
    "# Istogramma"
   ]
  },
  {
   "cell_type": "code",
   "execution_count": 106,
   "metadata": {},
   "outputs": [
    {
     "data": {
      "image/png": "[encoded data removed]",
      "text/plain": [
       "<Figure size 720x432 with 1 Axes>"
      ]
     },
     "metadata": {
      "needs_background": "light"
     },
     "output_type": "display_data"
    }
   ],
   "source": [
    "x = [data['degree']]\n",
    "num_bins = 10\n",
    "plt.figure(figsize=(10,6))\n",
    "n, bins, patches = plt.hist(x, num_bins, range=(0,500), rwidth=0.97, facecolor='darkblue', alpha=1)\n",
    "\n",
    "plt.xticks(np.linspace(0,500,11))\n",
    "plt.xlabel('Degree')\n",
    "plt.ylabel('Frequency\\n')\n",
    "#plt.title('\\nDistribution of node degree\\n', fontsize=20)\n",
    "#plt.axhline(y=70, color='#95a5a6', linestyle='--', linewidth=1)\n",
    "#plt.box(on=None)\n",
    "#plt.grid(color='#95a5a6', linestyle='--', linewidth=1, axis='y', alpha=0.7)\n",
    "#plt.tight_layout()\n",
    "#plt.show()\n",
    "\n",
    "plt.savefig('C:\\\\Users\\\\utente\\\\Documents\\\\DSSC_IIyear\\\\Voli\\\\Plots\\\\S3_histogram1.png')"
   ]
  },
  {
   "cell_type": "code",
   "execution_count": 107,
   "metadata": {},
   "outputs": [],
   "source": [
    "small_deg = data[data['degree']<20]"
   ]
  },
  {
   "cell_type": "code",
   "execution_count": 108,
   "metadata": {},
   "outputs": [
    {
     "data": {
      "text/html": [
       "<div>\n",
       "<style scoped>\n",
       "    .dataframe tbody tr th:only-of-type {\n",
       "        vertical-align: middle;\n",
       "    }\n",
       "\n",
       "    .dataframe tbody tr th {\n",
       "        vertical-align: top;\n",
       "    }\n",
       "\n",
       "    .dataframe thead th {\n",
       "        text-align: right;\n",
       "    }\n",
       "</style>\n",
       "<table border=\"1\" class=\"dataframe\">\n",
       "  <thead>\n",
       "    <tr style=\"text-align: right;\">\n",
       "      <th></th>\n",
       "      <th>flight</th>\n",
       "      <th>sector_hours</th>\n",
       "      <th>degree</th>\n",
       "    </tr>\n",
       "  </thead>\n",
       "  <tbody>\n",
       "    <tr>\n",
       "      <th>0</th>\n",
       "      <td>A6RTS_OMDW_EGGW_20170901055500</td>\n",
       "      <td>['LTAAAEU67_0800_0900_E', 'LTAAANOR2_0900_1000...</td>\n",
       "      <td>154</td>\n",
       "    </tr>\n",
       "    <tr>\n",
       "      <th>1</th>\n",
       "      <td>AAB249_EBKT_LFMN_20170901070500</td>\n",
       "      <td>['EBBUWLS_0700_0800_E', 'EBBUWHS_0700_0800_E',...</td>\n",
       "      <td>127</td>\n",
       "    </tr>\n",
       "    <tr>\n",
       "      <th>2</th>\n",
       "      <td>AAB249_LFMN_LIEO_20170901090500</td>\n",
       "      <td>['LFMMMNST_0900_1000_E', 'LFMMBTAJ_0900_1000_E...</td>\n",
       "      <td>56</td>\n",
       "    </tr>\n",
       "    <tr>\n",
       "      <th>3</th>\n",
       "      <td>AAB25C_LOWW_UUMO_20170901143500</td>\n",
       "      <td>['LZBBL33_1500_1600_E', 'LZBBU_1500_1600_E', '...</td>\n",
       "      <td>45</td>\n",
       "    </tr>\n",
       "    <tr>\n",
       "      <th>4</th>\n",
       "      <td>AAB571_EBBR_EGNV_20170901050500</td>\n",
       "      <td>['EBBUNWC_0530_0600_E', 'EDYYB5KL_0500_0600_E'...</td>\n",
       "      <td>64</td>\n",
       "    </tr>\n",
       "    <tr>\n",
       "      <th>...</th>\n",
       "      <td>...</td>\n",
       "      <td>...</td>\n",
       "      <td>...</td>\n",
       "    </tr>\n",
       "    <tr>\n",
       "      <th>29912</th>\n",
       "      <td>XLF056_LFPG_MMUN_20170901153100</td>\n",
       "      <td>['LFFFTH_1600_1700_E' 'LFFFUZ_1600_1700_E' 'LF...</td>\n",
       "      <td>42</td>\n",
       "    </tr>\n",
       "    <tr>\n",
       "      <th>29913</th>\n",
       "      <td>XLF1451_LFML_LFPG_20170901030500</td>\n",
       "      <td>['LFMMMALY_0330_0400_E' 'LFMMWW_0330_0400_E' '...</td>\n",
       "      <td>0</td>\n",
       "    </tr>\n",
       "    <tr>\n",
       "      <th>29914</th>\n",
       "      <td>XRO546_LFMD_EGCC_20170901180000</td>\n",
       "      <td>['LFMMSBAM_1800_1900_E' 'LFMMB12_1800_1900_E' ...</td>\n",
       "      <td>56</td>\n",
       "    </tr>\n",
       "    <tr>\n",
       "      <th>29915</th>\n",
       "      <td>XRO552_EHAM_LFMD_20170901150000</td>\n",
       "      <td>['EHAACOD_1500_1600_E' 'EHAASECT3_1520_1600_E'...</td>\n",
       "      <td>233</td>\n",
       "    </tr>\n",
       "    <tr>\n",
       "      <th>29916</th>\n",
       "      <td>Z3MKD_LWSK_EDDF_20170901130000</td>\n",
       "      <td>['LWSSLOW_1300_1400_E' 'LYBAL_1300_1359_E' 'LQ...</td>\n",
       "      <td>114</td>\n",
       "    </tr>\n",
       "  </tbody>\n",
       "</table>\n",
       "<p>29917 rows × 3 columns</p>\n",
       "</div>"
      ],
      "text/plain": [
       "                                 flight  \\\n",
       "0        A6RTS_OMDW_EGGW_20170901055500   \n",
       "1       AAB249_EBKT_LFMN_20170901070500   \n",
       "2       AAB249_LFMN_LIEO_20170901090500   \n",
       "3       AAB25C_LOWW_UUMO_20170901143500   \n",
       "4       AAB571_EBBR_EGNV_20170901050500   \n",
       "...                                 ...   \n",
       "29912   XLF056_LFPG_MMUN_20170901153100   \n",
       "29913  XLF1451_LFML_LFPG_20170901030500   \n",
       "29914   XRO546_LFMD_EGCC_20170901180000   \n",
       "29915   XRO552_EHAM_LFMD_20170901150000   \n",
       "29916    Z3MKD_LWSK_EDDF_20170901130000   \n",
       "\n",
       "                                            sector_hours  degree  \n",
       "0      ['LTAAAEU67_0800_0900_E', 'LTAAANOR2_0900_1000...     154  \n",
       "1      ['EBBUWLS_0700_0800_E', 'EBBUWHS_0700_0800_E',...     127  \n",
       "2      ['LFMMMNST_0900_1000_E', 'LFMMBTAJ_0900_1000_E...      56  \n",
       "3      ['LZBBL33_1500_1600_E', 'LZBBU_1500_1600_E', '...      45  \n",
       "4      ['EBBUNWC_0530_0600_E', 'EDYYB5KL_0500_0600_E'...      64  \n",
       "...                                                  ...     ...  \n",
       "29912  ['LFFFTH_1600_1700_E' 'LFFFUZ_1600_1700_E' 'LF...      42  \n",
       "29913  ['LFMMMALY_0330_0400_E' 'LFMMWW_0330_0400_E' '...       0  \n",
       "29914  ['LFMMSBAM_1800_1900_E' 'LFMMB12_1800_1900_E' ...      56  \n",
       "29915  ['EHAACOD_1500_1600_E' 'EHAASECT3_1520_1600_E'...     233  \n",
       "29916  ['LWSSLOW_1300_1400_E' 'LYBAL_1300_1359_E' 'LQ...     114  \n",
       "\n",
       "[29917 rows x 3 columns]"
      ]
     },
     "execution_count": 108,
     "metadata": {},
     "output_type": "execute_result"
    }
   ],
   "source": [
    "data"
   ]
  },
  {
   "cell_type": "code",
   "execution_count": 109,
   "metadata": {},
   "outputs": [],
   "source": [
    "am1 = data[(data['flight'].str[-6:-4])=='01']\n",
    "am2 = data[(data['flight'].str[-6:-4])=='02']\n",
    "am3 = data[(data['flight'].str[-6:-4])=='03']\n",
    "am4 = data[(data['flight'].str[-6:-4])=='04']\n",
    "am5 = data[(data['flight'].str[-6:-4])=='05']\n",
    "am6 = data[(data['flight'].str[-6:-4])=='06']\n",
    "am7 = data[(data['flight'].str[-6:-4])=='07']\n",
    "am8 = data[(data['flight'].str[-6:-4])=='08']\n",
    "am9 = data[(data['flight'].str[-6:-4])=='09']\n",
    "am10 = data[(data['flight'].str[-6:-4])=='10']\n",
    "am11 = data[(data['flight'].str[-6:-4])=='11']\n",
    "am12 = data[(data['flight'].str[-6:-4])=='12']\n",
    "pm1 = data[(data['flight'].str[-6:-4])=='13']\n",
    "pm2 = data[(data['flight'].str[-6:-4])=='14']\n",
    "pm3 = data[(data['flight'].str[-6:-4])=='15']\n",
    "pm4 = data[(data['flight'].str[-6:-4])=='16']\n",
    "pm5 = data[(data['flight'].str[-6:-4])=='17']\n",
    "pm6 = data[(data['flight'].str[-6:-4])=='18']\n",
    "pm7 = data[(data['flight'].str[-6:-4])=='19']\n",
    "pm8 = data[(data['flight'].str[-6:-4])=='20']\n",
    "pm9 = data[(data['flight'].str[-6:-4])=='21']\n",
    "pm10 = data[(data['flight'].str[-6:-4])=='22']\n",
    "pm11 = data[(data['flight'].str[-6:-4])=='23']\n",
    "pm12 = data[(data['flight'].str[-6:-4])=='00']"
   ]
  },
  {
   "cell_type": "code",
   "execution_count": 110,
   "metadata": {},
   "outputs": [
    {
     "data": {
      "text/html": [
       "<div>\n",
       "<style scoped>\n",
       "    .dataframe tbody tr th:only-of-type {\n",
       "        vertical-align: middle;\n",
       "    }\n",
       "\n",
       "    .dataframe tbody tr th {\n",
       "        vertical-align: top;\n",
       "    }\n",
       "\n",
       "    .dataframe thead th {\n",
       "        text-align: right;\n",
       "    }\n",
       "</style>\n",
       "<table border=\"1\" class=\"dataframe\">\n",
       "  <thead>\n",
       "    <tr style=\"text-align: right;\">\n",
       "      <th></th>\n",
       "      <th>flight</th>\n",
       "      <th>sector_hours</th>\n",
       "      <th>degree</th>\n",
       "    </tr>\n",
       "  </thead>\n",
       "  <tbody>\n",
       "    <tr>\n",
       "      <th>5</th>\n",
       "      <td>AAB678_LEIB_LPPR_20170901100000</td>\n",
       "      <td>['LECPIAX_0900_1000_E', 'LECPIRX_0900_1000_E',...</td>\n",
       "      <td>97</td>\n",
       "    </tr>\n",
       "    <tr>\n",
       "      <th>7</th>\n",
       "      <td>AAB713_EBKT_EHBK_20170901103000</td>\n",
       "      <td>['EBBUWLS_1000_1100_E', 'EBBUHLC_1000_1100_E',...</td>\n",
       "      <td>27</td>\n",
       "    </tr>\n",
       "    <tr>\n",
       "      <th>19</th>\n",
       "      <td>AAF255_LFPG_DAAG_20170901100000</td>\n",
       "      <td>['LFFFDODG_1000_1100_E', 'LFBBP12_1000_1100_E'...</td>\n",
       "      <td>151</td>\n",
       "    </tr>\n",
       "    <tr>\n",
       "      <th>58</th>\n",
       "      <td>AAF738_DAAG_LFBD_20170901100500</td>\n",
       "      <td>['LECBLVS_0900_1000_E', 'LECBBAS_1000_1040_E',...</td>\n",
       "      <td>113</td>\n",
       "    </tr>\n",
       "    <tr>\n",
       "      <th>100</th>\n",
       "      <td>ABG8070_LTAI_UNBB_20170901102000</td>\n",
       "      <td>['LTAIALL_1100_1200_E', 'LTAAASOU_1100_1200_E'...</td>\n",
       "      <td>76</td>\n",
       "    </tr>\n",
       "    <tr>\n",
       "      <th>...</th>\n",
       "      <td>...</td>\n",
       "      <td>...</td>\n",
       "      <td>...</td>\n",
       "    </tr>\n",
       "    <tr>\n",
       "      <th>29853</th>\n",
       "      <td>WZZ9NA_LROP_LCLK_20170901104900</td>\n",
       "      <td>['LRBBKNL16_1100_1200_E' 'LBSRVNL4_1100_1200_E...</td>\n",
       "      <td>145</td>\n",
       "    </tr>\n",
       "    <tr>\n",
       "      <th>29855</th>\n",
       "      <td>WZZ9PV_LIBD_LROP_20170901105500</td>\n",
       "      <td>['LIBBME_1100_1200_E' 'LDZOULS_1100_1200_E' 'L...</td>\n",
       "      <td>135</td>\n",
       "    </tr>\n",
       "    <tr>\n",
       "      <th>29862</th>\n",
       "      <td>WZZ9XC_EPGD_EDDH_20170901100000</td>\n",
       "      <td>['EPWWBDL_1000_1100_E' 'EDUUOSE1O_1000_1100_E'...</td>\n",
       "      <td>66</td>\n",
       "    </tr>\n",
       "    <tr>\n",
       "      <th>29866</th>\n",
       "      <td>XGO3GW_LFMN_EGLF_20170901102000</td>\n",
       "      <td>['LFMMMNST_1000_1100_E' 'LFMMB1_1000_1100_E' '...</td>\n",
       "      <td>169</td>\n",
       "    </tr>\n",
       "    <tr>\n",
       "      <th>29899</th>\n",
       "      <td>XK401UI_LFMN_LFKF_20170901105500</td>\n",
       "      <td>['LFMMBTAJ_1100_1200_E']</td>\n",
       "      <td>0</td>\n",
       "    </tr>\n",
       "  </tbody>\n",
       "</table>\n",
       "<p>1776 rows × 3 columns</p>\n",
       "</div>"
      ],
      "text/plain": [
       "                                 flight  \\\n",
       "5       AAB678_LEIB_LPPR_20170901100000   \n",
       "7       AAB713_EBKT_EHBK_20170901103000   \n",
       "19      AAF255_LFPG_DAAG_20170901100000   \n",
       "58      AAF738_DAAG_LFBD_20170901100500   \n",
       "100    ABG8070_LTAI_UNBB_20170901102000   \n",
       "...                                 ...   \n",
       "29853   WZZ9NA_LROP_LCLK_20170901104900   \n",
       "29855   WZZ9PV_LIBD_LROP_20170901105500   \n",
       "29862   WZZ9XC_EPGD_EDDH_20170901100000   \n",
       "29866   XGO3GW_LFMN_EGLF_20170901102000   \n",
       "29899  XK401UI_LFMN_LFKF_20170901105500   \n",
       "\n",
       "                                            sector_hours  degree  \n",
       "5      ['LECPIAX_0900_1000_E', 'LECPIRX_0900_1000_E',...      97  \n",
       "7      ['EBBUWLS_1000_1100_E', 'EBBUHLC_1000_1100_E',...      27  \n",
       "19     ['LFFFDODG_1000_1100_E', 'LFBBP12_1000_1100_E'...     151  \n",
       "58     ['LECBLVS_0900_1000_E', 'LECBBAS_1000_1040_E',...     113  \n",
       "100    ['LTAIALL_1100_1200_E', 'LTAAASOU_1100_1200_E'...      76  \n",
       "...                                                  ...     ...  \n",
       "29853  ['LRBBKNL16_1100_1200_E' 'LBSRVNL4_1100_1200_E...     145  \n",
       "29855  ['LIBBME_1100_1200_E' 'LDZOULS_1100_1200_E' 'L...     135  \n",
       "29862  ['EPWWBDL_1000_1100_E' 'EDUUOSE1O_1000_1100_E'...      66  \n",
       "29866  ['LFMMMNST_1000_1100_E' 'LFMMB1_1000_1100_E' '...     169  \n",
       "29899                           ['LFMMBTAJ_1100_1200_E']       0  \n",
       "\n",
       "[1776 rows x 3 columns]"
      ]
     },
     "execution_count": 110,
     "metadata": {},
     "output_type": "execute_result"
    }
   ],
   "source": [
    "am10"
   ]
  },
  {
   "cell_type": "code",
   "execution_count": 111,
   "metadata": {},
   "outputs": [],
   "source": [
    "morning = pd.concat([am6,am7,am8,am9,am10,am11])"
   ]
  },
  {
   "cell_type": "code",
   "execution_count": 112,
   "metadata": {},
   "outputs": [],
   "source": [
    "afternoon = pd.concat([am12,pm1,pm2,pm3,pm4,pm5])"
   ]
  },
  {
   "cell_type": "code",
   "execution_count": 113,
   "metadata": {},
   "outputs": [],
   "source": [
    "evening = pd.concat([pm6,pm7,pm8,pm9,pm10,pm11])"
   ]
  },
  {
   "cell_type": "code",
   "execution_count": 114,
   "metadata": {},
   "outputs": [],
   "source": [
    "night = pd.concat([pm12,am1,am2,am3,am4,am5])"
   ]
  },
  {
   "cell_type": "code",
   "execution_count": 115,
   "metadata": {},
   "outputs": [
    {
     "data": {
      "image/png": "[encoded data removed]",
      "text/plain": [
       "<Figure size 864x432 with 4 Axes>"
      ]
     },
     "metadata": {
      "needs_background": "light"
     },
     "output_type": "display_data"
    }
   ],
   "source": [
    "fig, axs = plt.subplots(1, 4, figsize = (12,6), constrained_layout=True)\n",
    "\n",
    "#fig.suptitle('\\nNode degree Boxplot\\n', fontsize=20)\n",
    "\n",
    "diamond = dict(markerfacecolor='g', marker='D')\n",
    "\n",
    "axs[0].boxplot(morning['degree'], whis='range', showmeans=True, meanprops=diamond)\n",
    "axs[0].set_title('Morning')\n",
    "axs[0].grid(color='#95a5a6', linestyle='--', linewidth=1, axis='y', alpha=0.7)\n",
    "axs[0].set_yticks(np.linspace(0,500,6))\n",
    "axs[0].get_xaxis().set_visible(False)\n",
    "\n",
    "axs[1].boxplot(afternoon['degree'], whis='range', showmeans=True, meanprops=diamond)\n",
    "axs[1].set_title('Afternoon')\n",
    "axs[1].grid(color='#95a5a6', linestyle='--', linewidth=1, axis='y', alpha=0.7)\n",
    "axs[1].set_yticks(np.linspace(0,500,6))\n",
    "axs[1].get_xaxis().set_visible(False)\n",
    "\n",
    "axs[2].boxplot(evening['degree'], whis='range', showmeans=True, meanprops=diamond)\n",
    "axs[2].set_title('\\nEvening')\n",
    "axs[2].grid(color='#95a5a6', linestyle='--', linewidth=1, axis='y', alpha=0.7)\n",
    "axs[2].set_yticks(np.linspace(0,500,6))\n",
    "axs[2].get_xaxis().set_visible(False)\n",
    "\n",
    "axs[3].boxplot(night['degree'], whis='range', showmeans=True, meanprops=diamond)\n",
    "axs[3].set_title('\\nNight')\n",
    "axs[3].grid(color='#95a5a6', linestyle='--', linewidth=1, axis='y', alpha=0.7)\n",
    "axs[3].set_yticks(np.linspace(0,500,6))\n",
    "axs[3].get_xaxis().set_visible(False)\n",
    "\n",
    "\n",
    "#plt.show()\n",
    "\n",
    "plt.savefig('C:\\\\Users\\\\utente\\\\Documents\\\\DSSC_IIyear\\\\Voli\\\\Plots\\\\S3_boxplot2.png')"
   ]
  },
  {
   "cell_type": "code",
   "execution_count": 116,
   "metadata": {},
   "outputs": [
    {
     "data": {
      "image/png": "[encoded data removed]",
      "text/plain": [
       "<Figure size 1080x720 with 4 Axes>"
      ]
     },
     "metadata": {
      "needs_background": "light"
     },
     "output_type": "display_data"
    }
   ],
   "source": [
    "fig, axs = plt.subplots(2, 2, figsize = (15,10), constrained_layout=True)\n",
    "\n",
    "#fig.suptitle('\\nNode degree distribution\\n', fontsize=20)\n",
    "\n",
    "axs[0,0].hist([morning['degree']], 10, range=(0,500), rwidth=0.97, facecolor='darkblue', alpha=1)\n",
    "axs[0,0].set_title('Morning', fontsize=16)\n",
    "axs[0,0].set_xlabel('Degree')\n",
    "axs[0,0].set_ylabel('Frequency\\n')\n",
    "axs[0,0].set_xticks(np.linspace(0,500,11))\n",
    "\n",
    "axs[0,1].hist([afternoon['degree']], 10, range=(0,500), rwidth=0.97, facecolor='darkblue', alpha=1)\n",
    "axs[0,1].set_title('Afternoon', fontsize=16)\n",
    "axs[0,1].set_xlabel('Degree')\n",
    "axs[0,1].set_ylabel('Frequency\\n')\n",
    "axs[0,1].set_xticks(np.linspace(0,500,11))\n",
    "\n",
    "axs[1,0].hist([evening['degree']], 10, range=(0,500), rwidth=0.97, facecolor='darkblue', alpha=1)\n",
    "axs[1,0].set_title('\\n\\nEvening', fontsize=16)\n",
    "axs[1,0].set_xlabel('Degree')\n",
    "axs[1,0].set_ylabel('Frequency\\n')\n",
    "axs[1,0].set_xticks(np.linspace(0,500,11))\n",
    "\n",
    "axs[1,1].hist([night['degree']], 10, range=(0,500), rwidth=0.97, facecolor='darkblue', alpha=1)\n",
    "axs[1,1].set_title('\\n\\nNight', fontsize=16)\n",
    "axs[1,1].set_xlabel('Degree')\n",
    "axs[1,1].set_ylabel('Frequency\\n')\n",
    "axs[1,1].set_xticks(np.linspace(0,500,11))\n",
    "\n",
    "\n",
    "plt.savefig('C:\\\\Users\\\\utente\\\\Documents\\\\DSSC_IIyear\\\\Voli\\\\Plots\\\\S3_histogram2.png')"
   ]
  },
  {
   "cell_type": "markdown",
   "metadata": {},
   "source": [
    "x = [morning['degree']]\n",
    "num_bins = 12\n",
    "plt.figure(figsize=(10,6))\n",
    "n, bins, patches = plt.hist(x, num_bins, range=(0,600), rwidth=0.9, facecolor='purple', alpha=1)\n",
    "\n",
    "\n",
    "plt.xticks(np.linspace(0,600,13))\n",
    "plt.xlabel('Degree')\n",
    "plt.ylabel('Frequency')\n",
    "plt.title('\\nDistribution of node degree - MORNING\\n', fontsize=20)\n",
    "#plt.axhline(y=70, color='#95a5a6', linestyle='--', linewidth=1)\n",
    "\n",
    "#plt.box(on=None)\n",
    "\n",
    "#plt.grid(color='#95a5a6', linestyle='--', linewidth=1, axis='y', alpha=0.7)\n",
    "#plt.tight_layout()\n",
    "plt.show()"
   ]
  },
  {
   "cell_type": "markdown",
   "metadata": {},
   "source": [
    "x = [afternoon['degree']]\n",
    "num_bins = 12\n",
    "plt.figure(figsize=(10,6))\n",
    "n, bins, patches = plt.hist(x, num_bins, range=(0,600), rwidth=0.9, facecolor='purple', alpha=1)\n",
    "\n",
    "\n",
    "plt.xticks(np.linspace(0,600,13))\n",
    "plt.xlabel('Degree')\n",
    "plt.ylabel('Frequency')\n",
    "plt.title('\\nDistribution of node degree - AFTERNOON\\n', fontsize=20)\n",
    "#plt.axhline(y=70, color='#95a5a6', linestyle='--', linewidth=1)\n",
    "\n",
    "#plt.box(on=None)\n",
    "\n",
    "#plt.grid(color='#95a5a6', linestyle='--', linewidth=1, axis='y', alpha=0.7)\n",
    "#plt.tight_layout()\n",
    "plt.show()"
   ]
  },
  {
   "cell_type": "markdown",
   "metadata": {},
   "source": [
    "x = [evening['degree']]\n",
    "num_bins = 12\n",
    "plt.figure(figsize=(10,6))\n",
    "n, bins, patches = plt.hist(x, num_bins, range=(0,600), rwidth=0.9, facecolor='purple', alpha=1)\n",
    "\n",
    "\n",
    "plt.xticks(np.linspace(0,600,13))\n",
    "plt.xlabel('Degree')\n",
    "plt.ylabel('Frequency')\n",
    "plt.title('\\nDistribution of node degree - EVENING\\n', fontsize=20)\n",
    "#plt.axhline(y=70, color='#95a5a6', linestyle='--', linewidth=1)\n",
    "\n",
    "#plt.box(on=None)\n",
    "\n",
    "#plt.grid(color='#95a5a6', linestyle='--', linewidth=1, axis='y', alpha=0.7)\n",
    "#plt.tight_layout()\n",
    "plt.show()"
   ]
  },
  {
   "cell_type": "markdown",
   "metadata": {},
   "source": [
    "x = [night['degree']]\n",
    "num_bins = 12\n",
    "plt.figure(figsize=(10,6))\n",
    "n, bins, patches = plt.hist(x, num_bins, range=(0,600), rwidth=0.9, facecolor='purple', alpha=1)\n",
    "\n",
    "\n",
    "plt.xticks(np.linspace(0,600,13))\n",
    "plt.xlabel('Degree')\n",
    "plt.ylabel('Frequency')\n",
    "plt.title('\\nDistribution of node degree - NIGHT\\n', fontsize=20)\n",
    "#plt.axhline(y=70, color='#95a5a6', linestyle='--', linewidth=1)\n",
    "\n",
    "#plt.box(on=None)\n",
    "\n",
    "#plt.grid(color='#95a5a6', linestyle='--', linewidth=1, axis='y', alpha=0.7)\n",
    "#plt.tight_layout()\n",
    "plt.show()"
   ]
  },
  {
   "cell_type": "markdown",
   "metadata": {},
   "source": [
    "plt.figure(figsize=(14,20))\n",
    "\n",
    "\n",
    "plt.title('\\nNode degree Boxplot\\n', fontsize=20)\n",
    "plt.subplot(2,2,1)\n",
    "diamond = dict(markerfacecolor='g', marker='D')\n",
    "plt.boxplot(morning['degree'], whis='range', showmeans=True, meanprops=diamond)\n",
    "plt.yticks(np.linspace(0,600,7))\n",
    "plt.grid(color='#95a5a6', linestyle='--', linewidth=1, axis='y', alpha=0.7)\n",
    "\n",
    "plt.subplot(2,2,2)\n",
    "diamond = dict(markerfacecolor='g', marker='D')\n",
    "plt.boxplot(afternoon['degree'], whis='range', showmeans=True, meanprops=diamond)\n",
    "plt.yticks(np.linspace(0,600,7))\n",
    "plt.grid(color='#95a5a6', linestyle='--', linewidth=1, axis='y', alpha=0.7)\n",
    "\n",
    "plt.subplot(2,2,3)\n",
    "diamond = dict(markerfacecolor='g', marker='D')\n",
    "plt.boxplot(evening['degree'], whis='range', showmeans=True, meanprops=diamond)\n",
    "plt.yticks(np.linspace(0,600,7))\n",
    "plt.grid(color='#95a5a6', linestyle='--', linewidth=1, axis='y', alpha=0.7)\n",
    "\n",
    "plt.subplot(2,2,4)\n",
    "diamond = dict(markerfacecolor='g', marker='D')\n",
    "plt.boxplot(night['degree'], whis='range', showmeans=True, meanprops=diamond)\n",
    "plt.yticks(np.linspace(0,600,7))\n",
    "plt.grid(color='#95a5a6', linestyle='--', linewidth=1, axis='y', alpha=0.7)\n",
    "\n",
    "plt.show()"
   ]
  },
  {
   "cell_type": "markdown",
   "metadata": {},
   "source": [
    "x = [small_deg['degree']]\n",
    "num_bins = 20\n",
    "plt.figure(figsize=(10,6))\n",
    "n, bins, patches = plt.hist(x, num_bins, range=(0,20), rwidth=0.9, facecolor='darkorange', alpha=1)\n",
    "\n",
    "\n",
    "plt.xticks(np.linspace(0,20,21))\n",
    "plt.xlabel('Degree')\n",
    "plt.ylabel('Frequency')\n",
    "plt.title('\\nDistribution of node degree\\n', fontsize=20)\n",
    "#plt.axhline(y=70, color='#95a5a6', linestyle='--', linewidth=1)\n",
    "\n",
    "#plt.box(on=None)\n",
    "\n",
    "#plt.grid(color='#95a5a6', linestyle='--', linewidth=1, axis='y', alpha=0.7)\n",
    "#plt.tight_layout()\n",
    "plt.show()"
   ]
  }
 ],
 "metadata": {
  "kernelspec": {
   "display_name": "Python 3",
   "language": "python",
   "name": "python3"
  },
  "language_info": {
   "codemirror_mode": {
    "name": "ipython",
    "version": 3
   },
   "file_extension": ".py",
   "mimetype": "text/x-python",
   "name": "python",
   "nbconvert_exporter": "python",
   "pygments_lexer": "ipython3",
   "version": "3.7.5"
  }
 },
 "nbformat": 4,
 "nbformat_minor": 2
}
